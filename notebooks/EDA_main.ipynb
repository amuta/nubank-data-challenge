{
 "cells": [
  {
   "cell_type": "markdown",
   "metadata": {},
   "source": [
    "### Análise Exploratória\n",
    "\n",
    "1. Como dito, a inadimplência é o aspecto mais sensível quando se fala em crédito. Faça três visualizações que explorem a inadimplência na base fornecida.\n",
    "\n",
    "2. Faça uma análise dos casos de fraude. Qual a relação deles com os casos de inadimplência?\n",
    "\n",
    "3. Analisando a distribuição do volume de compras em 3 meses dos clientes (variável pv_3m), você diria que ela segue uma distribuição normal? Há algo de estranho nela? Se sim, qual seria a justificativa ou hipótese para tal?"
   ]
  },
  {
   "cell_type": "markdown",
   "metadata": {},
   "source": [
    "- [Introdução](#introduçao)\n",
    "  - [Sobre o Nubank](#sobre-o-nubank)\n",
    "  - [O Processo de aprovação](#o-processo-de-aprovacao)\n",
    "  - [Fraudes](#fraudes)\n",
    "- [Tarefas](#tarefas)\n",
    "  - [Análise Exploratória](#analise-exploratoria)\n",
    "  - [Modelagem](#modelagem)\n",
    "    - [Risco de Crédito](#risco-de-credito)\n",
    "\t- [Propensão a gasto](#propensa-a-gasto)\n",
    "\t- [Fraude](#fraude)\n",
    "  - [Resolvendo um problema de negócio](#resolvedo-um-problema-de-negocio)\n",
    "- [Entregáveis](#entregaveis)\n",
    "- [O que esperamos das equipes?](#o-que-esperamos-das-equipes)\n",
    "- [Arquivos](#arquivos)\n",
    "- [Os dados](#os-dados)"
   ]
  }
 ],
 "metadata": {
  "kernelspec": {
   "display_name": "data-challenge",
   "language": "python",
   "name": "data-challenge"
  },
  "language_info": {
   "codemirror_mode": {
    "name": "ipython",
    "version": 3
   },
   "file_extension": ".py",
   "mimetype": "text/x-python",
   "name": "python",
   "nbconvert_exporter": "python",
   "pygments_lexer": "ipython3",
   "version": "3.7.0"
  }
 },
 "nbformat": 4,
 "nbformat_minor": 2
}
