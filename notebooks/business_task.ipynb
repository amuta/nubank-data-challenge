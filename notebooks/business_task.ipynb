{
 "cells": [
  {
   "cell_type": "markdown",
   "metadata": {},
   "source": [
    "### Resolvendo um problema de negócio\n",
    "\n",
    "\n",
    "Embora tenha-se falado um pouco sobre validação na etapa anterior, até agora falamos apenas do comportamento de modelos isolados e não de decisões.\n",
    "\n",
    "Um negócio é feito de decisões e é preciso definir como os dados serão usados para ajudar na tomada de decisão. Apesar de termos contruído três modelos até aqui, o intuito é apenas um: como decidir quais novos clientes aceitar? Para tal são tomadas duas decisões, na verdade: a aprovação do crédito e o limite inicial que será dado.\n",
    "\n",
    "Você pode encontrar mais sobre o funcionamento do nubank em [nosso site](https://nubank.com.br/perguntas/) na seção \"Sobre o Nubank\". É importante salientar que não há uma resposta única e correta para este problema e que ele pode ser abordado de diferentes formas. Sinta-se livre para propor qualquer solução que você acredite ser a melhor.\n",
    "\n",
    "Sabemos que é um problema complexo e adoraríamos ver abordagens simples, racionais e criativas.\n",
    "\n",
    "Para a sua análise, considere as seguintes informações (elas não precisam ser obrigatoriametne usadas em sua solução):\n",
    "\n",
    "\n",
    "|           Métrica                            |Valor |\n",
    "|:--------------------------------------------:|:----:|\n",
    "|          Taxa de juros do rotativo           |  17% |\n",
    "|          Taxa de intercâmbio                 |  5%  |\n",
    "|            Custo unitário do cartão          |  10  |\n",
    "|Custo por minuto do serviço de atendimento    |  2.5 |\n",
    "|           Inflação mensal                    | 0.5% |\n",
    "\n",
    "\n",
    "A maneira com a qual esses valores relacionam-se com o negócio é a seguinte:\n",
    "\n",
    "- Taxa de juros do rotativo: os clientes tem a opção de pagar apenas 10% de suas faturas e rolar a dívida para o próximo mês, exemplo: em uma fatura de $1000, paga-se 10\\% ($100) e rola $900 ($1000 - $100). A próxima fatura será $900 * (1 + 0.17) = $900 (balanço rolado) + $153 (juros do rotativo).\n",
    "\n",
    "- Taxa de intercâmbio: é cobrado do vendedor 5% do montante total de uma compra feita por um cliente. Por exemplo, o cliente compra uma TV por $1000 e isso trará uma renda de $50 ao Nubank.\n",
    "\n",
    "- Custo unitário do cartão: é o valor gasto para manufaturar e enviar o cartão para o cliente.\n",
    "\n",
    "- Custo por minuto do serviço de atendimento: é o valor médio gasto por minuto que o cliente usa o serviço de atendimento.\n",
    "\n",
    "- Inflação: é a variação média mensal no preço de uma determinada cesta de bens.\n",
    "\n",
    "\n",
    "**Considerações**:\n",
    "- se um cliente incorreu em inadimplência, você pode considerar que a soma do montante da última fatura mais o balanço do rotativo do último mês é a quantidade que nós perderemos com aquele cliente. Exemplo: o $900 + $153 citado acima;\n",
    "- se um cliente é fraudador, ele dará um prejuízo igual ao limite de crédito concedido.\n",
    "\n",
    "Há total liberdade para usar como bem entender os modelo que foram feitos na etapa anterior. Para responder essas perguntas deve ser feita uma apresentação na qual é discutida a abordagem, como ela foi validada, as premissas, utilização dos dados históricos e etc. Além disso, deve ser entregue:\n",
    "\n",
    "- O código utilizado;\n",
    "- Um csv com a definição de aprovado ou não e com qual linha de crédito inicial para o conjunto de teste;\n",
    "- Uma apresentação em pdf que descreva a sua abordagem.\n",
    "\n",
    "Tenha em mente que esta apresentação deve convencer executivos a adotarem a sua abordagem."
   ]
  },
  {
   "cell_type": "markdown",
   "metadata": {},
   "source": [
    "## Dados de comportamento\n",
    "\n",
    "\n",
    "|           Coluna                             |Tipo     | Descrição |\n",
    "|:--------------------------------------------:|:----:| |\n",
    "|ids|String|identificador único de um aplicante|\n",
    "|credit_line|  String | Limite do cartão|\n",
    "|month|Int| Ordenação dos meses que a pessoa é cliente, sendo 0 o primeiro mês dela como cliente|\n",
    "|spend|Float|Valor gasto naquele mês|\n",
    "|revolving_balance|Float|Valor que o cliente não pagou da fatura atual e que irá rolar para a próxima |\n",
    "|card_request| Int |Se o cliente solicitou uma nova via do cartão (ou a primeira) |\n",
    "| minutes_cs|Float|Quantidade de minutos utilizados do serviço de atendimento ao consumidor |"
   ]
  },
  {
   "cell_type": "markdown",
   "metadata": {},
   "source": [
    "## Premissas\n",
    "\n",
    "Algumas premissas que serão levadas em conta como forma de garantir a fundamentação dos cálculos e modelos.\n",
    "\n",
    "\n",
    "### Balanço do rotativo\n",
    "- O pagamento do rotativo será considerado como se tivesse ocorrido \n",
    "\n",
    "### Fraude\n",
    "- Se um cliente é fraudador, ele dará um prejuízo igual ao limite de crédito concedido.\n",
    "- Tal prejuízo de fraude é contabilizado no seu último mês.\n",
    "- Os gastos dos meses anteriores serão considerados normalmente.\n",
    "\n",
    "### Inadimplência\n",
    "- No caso de inadimplência o prejuízo é a soma do montante da última fatura mais o balanço do rotativo do último mês\n",
    "\n"
   ]
  },
  {
   "cell_type": "code",
   "execution_count": 199,
   "metadata": {},
   "outputs": [],
   "source": [
    "import pandas as pd\n",
    "import numpy as np"
   ]
  },
  {
   "cell_type": "code",
   "execution_count": 200,
   "metadata": {},
   "outputs": [],
   "source": [
    "data = pd.read_csv('../data/raw/spend_train.csv')\n",
    "acq_data = pd.read_csv('../data/raw/acquisition_train.csv')"
   ]
  },
  {
   "cell_type": "code",
   "execution_count": 201,
   "metadata": {},
   "outputs": [],
   "source": [
    "max_month = data.groupby('ids')['month'].transform(max)\n",
    "data['last_month'] = max_month == data.month\n",
    "# data['penult_month'] = (data.month - max_month) == -1"
   ]
  },
  {
   "cell_type": "code",
   "execution_count": 202,
   "metadata": {},
   "outputs": [],
   "source": [
    "fraud_family_ids = acq_data.ids[acq_data.target_fraud == 'fraud_friends_family'].values\n",
    "fraud_id_ids = acq_data.ids[acq_data.target_fraud == 'fraud_id'].values\n",
    "fraud_ids = np.concatenate((fraud_family_ids, fraud_others_ids))"
   ]
  },
  {
   "cell_type": "code",
   "execution_count": 203,
   "metadata": {},
   "outputs": [],
   "source": [
    "data['fraud'] = False\n",
    "data.loc[(data.ids.isin(fraud_ids)),'fraud'] = True"
   ]
  },
  {
   "cell_type": "code",
   "execution_count": 204,
   "metadata": {},
   "outputs": [],
   "source": [
    "data['fraud_type'] = pd.np.nan\n",
    "data.loc[data.ids.isin(fraud_family_ids),'fraud_type'] = 'fraud_friends_family'\n",
    "data.loc[data.ids.isin(fraud_id_ids),'fraud_type'] = 'fraud_id'"
   ]
  },
  {
   "cell_type": "code",
   "execution_count": 205,
   "metadata": {},
   "outputs": [],
   "source": [
    "default_ids = acq_data[acq_data.target_default == 1].ids.values"
   ]
  },
  {
   "cell_type": "code",
   "execution_count": 206,
   "metadata": {},
   "outputs": [],
   "source": [
    "data['default'] = False\n",
    "data.loc[data.ids.isin(default_ids), 'default'] = True"
   ]
  },
  {
   "cell_type": "code",
   "execution_count": 207,
   "metadata": {},
   "outputs": [],
   "source": [
    "interest_rate = 0.17\n",
    "interchange_rate = 0.05\n",
    "inflation_rate = 0.005\n",
    "unit_card_cost = 10"
   ]
  },
  {
   "cell_type": "code",
   "execution_count": 210,
   "metadata": {},
   "outputs": [],
   "source": [
    "# data[(data.fraud_type == 'fraud_id') & (data.last_month)]"
   ]
  },
  {
   "cell_type": "code",
   "execution_count": 211,
   "metadata": {},
   "outputs": [],
   "source": [
    "# data['fraud_cost'] = data."
   ]
  },
  {
   "cell_type": "code",
   "execution_count": 212,
   "metadata": {},
   "outputs": [],
   "source": [
    "data['last_revolving'] = data.groupby('ids')['revolving_balance'].shift(1).fillna(0)"
   ]
  },
  {
   "cell_type": "code",
   "execution_count": 213,
   "metadata": {},
   "outputs": [],
   "source": [
    "data['last_revolving_interest'] = data.last_revolving * interest_rate"
   ]
  },
  {
   "cell_type": "code",
   "execution_count": 214,
   "metadata": {},
   "outputs": [],
   "source": [
    "data['bill'] = data.spends + data.last_revolving + data.last_revolving_interest"
   ]
  },
  {
   "cell_type": "code",
   "execution_count": 215,
   "metadata": {},
   "outputs": [],
   "source": [
    "data['interchange_renenue'] = data.spends * interchange_rate"
   ]
  },
  {
   "cell_type": "code",
   "execution_count": 216,
   "metadata": {},
   "outputs": [],
   "source": [
    "data['card_cost'] = data.card_request * unit_card_cost"
   ]
  },
  {
   "cell_type": "code",
   "execution_count": 217,
   "metadata": {},
   "outputs": [],
   "source": [
    "data['paid'] = data.bill - data.revolving_balance"
   ]
  },
  {
   "cell_type": "code",
   "execution_count": 218,
   "metadata": {},
   "outputs": [],
   "source": [
    "data['cs_cost'] = data.minutes_cs * 2.5"
   ]
  },
  {
   "cell_type": "code",
   "execution_count": 235,
   "metadata": {},
   "outputs": [],
   "source": [
    "data['total_revenue'] = data.last_revolving_interest + data.interchange_renenue\n",
    "# remove last month revenue in case of fraud or default\n",
    "data.loc[(data.default | data.fraud) & data.last_month, 'total_revenue'] = 0"
   ]
  },
  {
   "cell_type": "code",
   "execution_count": 233,
   "metadata": {},
   "outputs": [],
   "source": [
    "data['fraud_cost'] = data.credit_line * data.fraud * data.last_month\n",
    "data['default_cost'] = (data.bill + data.revolving_balance) * data.default * data.last_month * ~data.fraud"
   ]
  },
  {
   "cell_type": "code",
   "execution_count": 236,
   "metadata": {},
   "outputs": [],
   "source": [
    "data['total_cost'] = data.cs_cost + data.card_cost + data.fraud_cost + data.default_cost"
   ]
  },
  {
   "cell_type": "code",
   "execution_count": 240,
   "metadata": {},
   "outputs": [],
   "source": [
    "data['discount_factor'] = (1 + inflation_rate) ** data.month"
   ]
  },
  {
   "cell_type": "code",
   "execution_count": 241,
   "metadata": {},
   "outputs": [],
   "source": [
    "data['discounted_total_revenue'] = data.total_revenue / data.discount_factor\n",
    "data['discounted_total_cost'] = data.total_cost / data.discount_factor"
   ]
  },
  {
   "cell_type": "code",
   "execution_count": 246,
   "metadata": {},
   "outputs": [],
   "source": [
    "revenue = data.discounted_total_revenue.sum()"
   ]
  },
  {
   "cell_type": "code",
   "execution_count": 247,
   "metadata": {},
   "outputs": [],
   "source": [
    "cost = data.discounted_total_cost.sum()"
   ]
  },
  {
   "cell_type": "code",
   "execution_count": 249,
   "metadata": {},
   "outputs": [],
   "source": [
    "profit = revenue - cost"
   ]
  },
  {
   "cell_type": "code",
   "execution_count": 250,
   "metadata": {},
   "outputs": [
    {
     "data": {
      "text/plain": [
       "0.8148138546009099"
      ]
     },
     "execution_count": 250,
     "metadata": {},
     "output_type": "execute_result"
    }
   ],
   "source": [
    "profit / revenue\n"
   ]
  },
  {
   "cell_type": "code",
   "execution_count": null,
   "metadata": {},
   "outputs": [],
   "source": []
  }
 ],
 "metadata": {
  "kernelspec": {
   "display_name": "data-challenge",
   "language": "python",
   "name": "data-challenge"
  },
  "language_info": {
   "codemirror_mode": {
    "name": "ipython",
    "version": 3
   },
   "file_extension": ".py",
   "mimetype": "text/x-python",
   "name": "python",
   "nbconvert_exporter": "python",
   "pygments_lexer": "ipython3",
   "version": "3.7.0"
  }
 },
 "nbformat": 4,
 "nbformat_minor": 2
}
